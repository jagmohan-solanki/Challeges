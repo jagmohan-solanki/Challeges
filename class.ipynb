{
 "cells": [
  {
   "cell_type": "markdown",
   "metadata": {},
   "source": [
    "# Task"
   ]
  },
  {
   "cell_type": "raw",
   "metadata": {},
   "source": [
    "Write a Person class with an instance variable,age, and a constructor that takes an integer,initialAge, as a parameter.\n",
    "The constructor must assign initialAge to age after confirming the argument passed as is not negative; if a\n",
    "negative argument is passed as initialAge, the constructor should set age to 0 and print Age is not valid, setting \n",
    "age to 0.. In addition, you must write the following instance methods:\n",
    "                        1) yearPasses() should increase the age instance variable by 1. \n",
    "                        2) amIOld() should perform the following conditional actions: \n",
    "                                    1) If age<13, print You are young.\n",
    "                                    2) If age>13 and age<18, print You are a teenager\n",
    "                                    3) Otherwise, print You are old..\n",
    "                                    "
   ]
  },
  {
   "cell_type": "markdown",
   "metadata": {},
   "source": [
    "### Sample Input"
   ]
  },
  {
   "cell_type": "raw",
   "metadata": {},
   "source": [
    "4\n",
    "-1\n",
    "10\n",
    "16\n",
    "18"
   ]
  },
  {
   "cell_type": "markdown",
   "metadata": {},
   "source": [
    "### Sample Output"
   ]
  },
  {
   "cell_type": "raw",
   "metadata": {},
   "source": [
    "Age is not valid, setting age to 0.\n",
    "You are young.\n",
    "You are young.\n",
    "\n",
    "You are young.\n",
    "You are a teenager.\n",
    "\n",
    "You are a teenager.\n",
    "You are old.\n",
    "\n",
    "You are old.\n",
    "You are old.\n",
    "\n"
   ]
  },
  {
   "cell_type": "markdown",
   "metadata": {},
   "source": [
    "# Code :-"
   ]
  },
  {
   "cell_type": "code",
   "execution_count": null,
   "metadata": {},
   "outputs": [],
   "source": [
    "class Person:\n",
    "    def __init__(self,initialAge):\n",
    "        # Add some more code to run some checks on initialAge\n",
    "        \n",
    "         self.initialAge = initialAge\n",
    "         if initialAge < 0:\n",
    "             print ('Age is not valid, setting age to 0.')\n",
    "         \n",
    "\n",
    "    def amIOld(self):\n",
    "        # Do some computations in here and print out the correct statement to the console\n",
    "         if self.initialAge < 13:\n",
    "            print ('You are young.')\n",
    "         elif 13 <= self.initialAge < 18:\n",
    "             print ('You are a teenager.')\n",
    "         else:\n",
    "             print ('You are old.')\n",
    "\n",
    "    def yearPasses(self):\n",
    "        # Increment the age of the person in here\n",
    "        self.initialAge += 1\n",
    "\n",
    "t = int(input())\n",
    "for i in range(0, t):\n",
    "    age = int(input())         \n",
    "    p = Person(age)  \n",
    "    p.amIOld()\n",
    "    for j in range(0, 3):\n",
    "        p.yearPasses()       \n",
    "    p.amIOld()\n",
    "    print(\"\")"
   ]
  }
 ],
 "metadata": {
  "kernelspec": {
   "display_name": "Python 3",
   "language": "python",
   "name": "python3"
  },
  "language_info": {
   "codemirror_mode": {
    "name": "ipython",
    "version": 3
   },
   "file_extension": ".py",
   "mimetype": "text/x-python",
   "name": "python",
   "nbconvert_exporter": "python",
   "pygments_lexer": "ipython3",
   "version": "3.5.2"
  }
 },
 "nbformat": 4,
 "nbformat_minor": 2
}
