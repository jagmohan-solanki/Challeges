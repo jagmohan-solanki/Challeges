{
 "cells": [
  {
   "cell_type": "markdown",
   "metadata": {},
   "source": [
    "# Task"
   ]
  },
  {
   "cell_type": "raw",
   "metadata": {},
   "source": [
    "Complete the code in the editor below. The variables i, d and s are already declared and \n",
    "initialized for you. You must:\n",
    "                     \n",
    "\n",
    "    1) Declare 3 variables: one of type int, one of type double, and one of type String.\n",
    "    2) Read 3 lines of input from stdin (according to the sequence given in the Input Format section below)    and \n",
    "    initialize your 3 variables.\n",
    "    3) Use the operator to perform the following operations:\n",
    "                1)   Print the sum of plus your int variable on a new line.\n",
    "                2)   Print the sum of plus your double variable to a scale of one \n",
    "                     decimal place on a new line.\n",
    "                3)   Concatenate with the string you read as input and print the result on a new line. \n",
    "                \n"
   ]
  },
  {
   "cell_type": "markdown",
   "metadata": {},
   "source": [
    "## Sample Input"
   ]
  },
  {
   "cell_type": "raw",
   "metadata": {},
   "source": [
    "12\n",
    "4.0\n",
    "is the best place to learn and practice coding!\n"
   ]
  },
  {
   "cell_type": "markdown",
   "metadata": {},
   "source": [
    "## Sample Output"
   ]
  },
  {
   "cell_type": "raw",
   "metadata": {},
   "source": [
    "16\n",
    "8.0\n",
    "HackerRank is the best place to learn and practice coding!"
   ]
  },
  {
   "cell_type": "markdown",
   "metadata": {},
   "source": [
    "# Code :-"
   ]
  },
  {
   "cell_type": "code",
   "execution_count": null,
   "metadata": {},
   "outputs": [],
   "source": [
    "# Declare second integer, double, and String variables.\n",
    "i = 4\n",
    "d = 4.0\n",
    "s = 'HackerRank '\n",
    "\n",
    "# Read and save an integer, double, and String to your variables.\n",
    "p = int(input())\n",
    "q = float(input())\n",
    "r = input()\n",
    "\n",
    "# Print the sum of both integer variables on a new line.\n",
    "print(i+p)\n",
    "\n",
    "# Print the sum of the double variables on a new line.\n",
    "print(d+q)\n",
    "\n",
    "# Concatenate and print the String variables on a new line\n",
    "print(s+r)\n",
    "\n",
    "# The 's' variable above should be printed first."
   ]
  }
 ],
 "metadata": {
  "kernelspec": {
   "display_name": "Python 3",
   "language": "python",
   "name": "python3"
  },
  "language_info": {
   "codemirror_mode": {
    "name": "ipython",
    "version": 3
   },
   "file_extension": ".py",
   "mimetype": "text/x-python",
   "name": "python",
   "nbconvert_exporter": "python",
   "pygments_lexer": "ipython3",
   "version": "3.5.2"
  }
 },
 "nbformat": 4,
 "nbformat_minor": 2
}
